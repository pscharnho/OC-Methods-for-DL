{
 "cells": [
  {
   "cell_type": "markdown",
   "metadata": {},
   "source": [
    "# Tests for different classes #"
   ]
  },
  {
   "cell_type": "markdown",
   "metadata": {},
   "source": [
    "Test for Methods of the Layer classes"
   ]
  },
  {
   "cell_type": "code",
   "execution_count": 1,
   "metadata": {},
   "outputs": [
    {
     "name": "stdout",
     "output_type": "stream",
     "text": [
      "Parameter containing:\n",
      "tensor([[-1.,  1., -1.],\n",
      "        [ 1., -1.,  1.],\n",
      "        [-1.,  1., -1.],\n",
      "        [ 1., -1.,  1.]], dtype=torch.float64, requires_grad=True)\n"
     ]
    }
   ],
   "source": [
    "from Layers.Layers import MSALinearLayer\n",
    "import numpy as np \n",
    "import pandas as pd\n",
    "import random\n",
    "import os\n",
    "import torch\n",
    "import torch.nn as nn\n",
    "\n",
    "layer = MSALinearLayer(in_features=3, out_features=4, test=True)"
   ]
  },
  {
   "cell_type": "code",
   "execution_count": 2,
   "metadata": {},
   "outputs": [
    {
     "name": "stdout",
     "output_type": "stream",
     "text": [
      "tensor([-2.,  2., -2.,  2.], dtype=torch.float64, grad_fn=<SqueezeBackward3>)\n",
      "tensor([-2.,  2., -2.,  2.], dtype=torch.float64)\n"
     ]
    }
   ],
   "source": [
    "def forward_test():\n",
    "    x = torch.tensor([1,2,3], dtype=torch.float64)\n",
    "    res = layer.forward(x)\n",
    "    print(res)\n",
    "    goal = torch.tensor([-2,2,-2,2], dtype=torch.float64)\n",
    "    print(goal)\n",
    "    \n",
    "forward_test()"
   ]
  },
  {
   "cell_type": "code",
   "execution_count": 3,
   "metadata": {},
   "outputs": [
    {
     "name": "stdout",
     "output_type": "stream",
     "text": [
      "tensor(4., dtype=torch.float64, grad_fn=<DotBackward>)\n",
      "4\n",
      "tensor([ 2., -2.,  2.], dtype=torch.float64)\n",
      "[2, -2, 2]\n"
     ]
    }
   ],
   "source": [
    "def hamilton_test():\n",
    "    x = torch.tensor([1,2,3], dtype=torch.float64, requires_grad=True)\n",
    "    lambd = torch.tensor([1,2,3,4], dtype=torch.float64)\n",
    "    res = layer.hamilton(x,lambd)\n",
    "    print(res)\n",
    "    goal = 4\n",
    "    print(goal)\n",
    "    res.backward()\n",
    "    print(x.grad)\n",
    "    goal = [2, -2, 2]\n",
    "    print(goal)\n",
    "hamilton_test()"
   ]
  },
  {
   "cell_type": "code",
   "execution_count": 5,
   "metadata": {},
   "outputs": [
    {
     "name": "stdout",
     "output_type": "stream",
     "text": [
      "{'x_batch0FC1': tensor([1., 2., 3.], dtype=torch.float64), 'x_batch1FC1': tensor([2., 3., 0.], dtype=torch.float64)}\n",
      "{'lambda_batch0FC2': tensor([1., 2., 3., 4.], dtype=torch.float64), 'lambda_batch1FC2': tensor([4., 1., 3., 2.], dtype=torch.float64)}\n",
      "tensor([[ 9., 14.,  3.],\n",
      "        [ 4.,  7.,  6.],\n",
      "        [ 9., 15.,  9.],\n",
      "        [ 8., 14., 12.]], dtype=torch.float64)\n",
      "tensor([[ 9, 14,  3],\n",
      "        [ 4,  7,  6],\n",
      "        [ 9, 15,  9],\n",
      "        [ 8, 14, 12]])\n",
      "Parameter containing:\n",
      "tensor([[1., 1., 1.],\n",
      "        [1., 1., 1.],\n",
      "        [1., 1., 1.],\n",
      "        [1., 1., 1.]], dtype=torch.float64, requires_grad=True)\n",
      "tensor([[1, 1, 1],\n",
      "        [1, 1, 1],\n",
      "        [1, 1, 1],\n",
      "        [1, 1, 1]])\n",
      "{'x_batch0FC1': tensor([1., 2., 3.], dtype=torch.float64), 'x_batch1FC1': tensor([2., 3., 0.], dtype=torch.float64)}\n",
      "{'lambda_batch0FC2': tensor([ 0., -2.,  1., -3.], dtype=torch.float64), 'lambda_batch1FC2': tensor([-1., -2.,  3., -4.], dtype=torch.float64)}\n",
      "tensor([[ -2.,  -3.,   0.],\n",
      "        [ -6., -10.,  -6.],\n",
      "        [  7.,  11.,   3.],\n",
      "        [-11., -18.,  -9.]], dtype=torch.float64)\n",
      "tensor([[ -2,  -3,   0],\n",
      "        [ -6, -10,  -6],\n",
      "        [  7,  11,   3],\n",
      "        [-11, -18,  -9]])\n",
      "Parameter containing:\n",
      "tensor([[-1., -1.,  1.],\n",
      "        [-1., -1., -1.],\n",
      "        [ 1.,  1.,  1.],\n",
      "        [-1., -1., -1.]], dtype=torch.float64, requires_grad=True)\n",
      "tensor([[-1, -1,  1],\n",
      "        [-1, -1, -1],\n",
      "        [ 1,  1,  1],\n",
      "        [-1, -1, -1]])\n"
     ]
    }
   ],
   "source": [
    "def gen_dict(name, elements, layer_index):\n",
    "    res_dict = {}\n",
    "    for i in range(len(elements)):\n",
    "        dict_key = name+'_batch'+str(i)+'FC'+str(layer_index)\n",
    "        res_dict.update({dict_key:torch.tensor(elements[i], dtype=torch.float64)})\n",
    "    return res_dict\n",
    "    \n",
    "\n",
    "def set_weights_test_1():\n",
    "    layer_index = 1\n",
    "    batch_size = 2\n",
    "    x_dict = gen_dict('x', [[1,2,3],[2,3,0]], layer_index)\n",
    "    lambda_dict = gen_dict('lambda', [[1,2,3,4],[4,1,3,2]], layer_index+1)\n",
    "    layer.set_weights(layer_index, x_dict, lambda_dict, batch_size)\n",
    "    goal_m = torch.tensor([[9,14,3],[4,7,6],[9,15,9],[8,14,12]])\n",
    "    print(goal_m)\n",
    "    print(layer.linear.weight)\n",
    "    goal = torch.tensor([[1,1,1],[1,1,1],[1,1,1],[1,1,1]])\n",
    "    print(goal)\n",
    "    \n",
    "    \n",
    "\n",
    "def set_weights_test_2():\n",
    "    layer_index = 1\n",
    "    batch_size = 2\n",
    "    x_dict = gen_dict('x', [[1,2,3],[2,3,0]], layer_index)\n",
    "    lambda_dict = gen_dict('lambda', [[0,-2,1,-3],[-1,-2,3,-4]], layer_index+1)\n",
    "    layer.set_weights(layer_index, x_dict, lambda_dict, batch_size)\n",
    "    goal_m = torch.tensor([[-2,-3,0],[-6,-10,-6],[7,11,3],[-11,-18,-9]])\n",
    "    print(goal_m)\n",
    "    print(layer.linear.weight)\n",
    "    goal = torch.tensor([[-1,-1,1],[-1,-1,-1],[1,1,1],[-1,-1,-1]])\n",
    "    print(goal)\n",
    "    \n",
    "set_weights_test_1()\n",
    "\n",
    "set_weights_test_2()"
   ]
  }
 ],
 "metadata": {
  "kernelspec": {
   "display_name": "Python 3",
   "language": "python",
   "name": "python3"
  },
  "language_info": {
   "codemirror_mode": {
    "name": "ipython",
    "version": 3
   },
   "file_extension": ".py",
   "mimetype": "text/x-python",
   "name": "python",
   "nbconvert_exporter": "python",
   "pygments_lexer": "ipython3",
   "version": "3.7.0"
  }
 },
 "nbformat": 4,
 "nbformat_minor": 2
}
